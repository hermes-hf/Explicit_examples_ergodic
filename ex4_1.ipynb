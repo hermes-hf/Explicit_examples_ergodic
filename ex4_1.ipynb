{
 "cells": [
  {
   "cell_type": "code",
   "execution_count": 1,
   "metadata": {},
   "outputs": [],
   "source": [
    "import numpy as np\n",
    "import math\n",
    "import pandas as pd\n",
    "import seaborn as sns\n",
    "import copy\n"
   ]
  },
  {
   "cell_type": "code",
   "execution_count": 9,
   "metadata": {},
   "outputs": [],
   "source": [
    "##Functions\n",
    "def t(x,i):\n",
    "    if i == 1 :\n",
    "        a = (x+1)/(x+3)\n",
    "        return a\n",
    "    else:\n",
    "        a = (2)/(4-x)\n",
    "        return a\n",
    "\n",
    "def inv(x,n):\n",
    "    return math.floor(x*n)\n",
    "\n",
    "def tf(F,j):\n",
    "    n = F.size\n",
    "    Aux = copy.deepcopy(F)\n",
    "    \n",
    "    for i in range(n):\n",
    "        x = i/n\n",
    "        x = t(x,j)\n",
    "        Aux[i] = F[inv(x,n)]\n",
    "    return Aux\n",
    "\n",
    "\n",
    "def A(x):\n",
    "    if x<1/2:\n",
    "        return (1/2)*(math.log(abs(2/pow(x-1,2)))+math.log(2))\n",
    "    else:\n",
    "        return (1/2)*(math.log(abs(2/pow(x,2)))+math.log(2))\n",
    "\n",
    "def Avector(n):\n",
    "    AV = np.zeros(n)\n",
    "    for i in range(n):\n",
    "        AV[i] = A(i/n)\n",
    "    return AV\n",
    "\n",
    "def G(N,n):\n",
    "    F = np.zeros(n)\n",
    "    for i in range(N):\n",
    "        F1 = tf(F,1)\n",
    "        F2 = tf(F,2)\n",
    "        for j in range(n):\n",
    "            F1[j] = F1[j] + A(t(j/n,1))\n",
    "            F2[j] = F2[j] + A(t(j/n,2))\n",
    "        F = (np.maximum(F1,F2)+F)/2\n",
    "        F = F - np.amax(F)\n",
    "    return [F,F1,F2]\n",
    "\n",
    "#T 2xmod1\n",
    "def T(F):\n",
    "    Aux = copy.deepcopy(F)\n",
    "    n = F.size\n",
    "    for i in range(n):\n",
    "        x = i/n\n",
    "        x = 2*x\n",
    "        if x > 1:\n",
    "            x = x - 1\n",
    "        j = math.floor(n*x)\n",
    "        if j>=n:\n",
    "            j=n-1\n",
    "        \n",
    "        Aux[i] = F[j]\n",
    "    return Aux"
   ]
  },
  {
   "cell_type": "code",
   "execution_count": 30,
   "metadata": {},
   "outputs": [
    {
     "data": {
      "image/png": "[encoded data removed]",
      "text/plain": [
       "<Figure size 432x288 with 1 Axes>"
      ]
     },
     "metadata": {
      "needs_background": "light"
     },
     "output_type": "display_data"
    }
   ],
   "source": [
    "## G Iterations and plot\n",
    "n = 2000\n",
    "N = 30\n",
    "Result = G(N,n)\n",
    "F1 = Result[1]\n",
    "F2 = Result[2]\n",
    "yup = F2[665]\n",
    "F1 = F1 - yup\n",
    "F2 = F2 - yup\n",
    "\n",
    "F = list(F1)\n",
    "X = list(np.array(range(n))/n)\n",
    "D = list(zip(X,F))\n",
    "Resultd1 = pd.DataFrame(data = D ,columns = [\"x\",\"t1\"])\n",
    "\n",
    "F = list(F2)\n",
    "X = list(np.array(range(n))/n)\n",
    "D = list(zip(X,F))\n",
    "\n",
    "Resultd2 = pd.DataFrame(data = D ,columns = [\"x\",\"t2\"])\n",
    "\n",
    "ymin = Result[0][1000]\n",
    "\n",
    "##PLOT\n",
    "ax = Resultd1.plot(x = Resultd1.columns.values[0], y = Resultd1.columns.values[1],style = '--');\n",
    "Resultd2.plot(ax=ax,x = Resultd2.columns.values[0], y = Resultd2.columns.values[1]);\n",
    "ax.set_ylim([ymin-0.01,0.01])\n",
    "ax.set_xlim([1/3,2/3])\n",
    "\n",
    "\n",
    "#save plot\n",
    "ax.figure.savefig('../imagens/ex4_branches.pdf')"
   ]
  },
  {
   "cell_type": "code",
   "execution_count": null,
   "metadata": {},
   "outputs": [],
   "source": []
  }
 ],
 "metadata": {
  "kernelspec": {
   "display_name": "Python 3",
   "language": "python",
   "name": "python3"
  },
  "language_info": {
   "codemirror_mode": {
    "name": "ipython",
    "version": 3
   },
   "file_extension": ".py",
   "mimetype": "text/x-python",
   "name": "python",
   "nbconvert_exporter": "python",
   "pygments_lexer": "ipython3",
   "version": "3.8.3"
  }
 },
 "nbformat": 4,
 "nbformat_minor": 4
}
